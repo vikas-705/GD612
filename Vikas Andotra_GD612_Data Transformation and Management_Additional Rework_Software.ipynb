{
 "cells": [
  {
   "cell_type": "code",
   "execution_count": null,
   "id": "e14c27db",
   "metadata": {},
   "outputs": [],
   "source": [
    "#!pip install schedule"
   ]
  },
  {
   "cell_type": "markdown",
   "id": "cd152cdf",
   "metadata": {},
   "source": [
    "# Imported Libraries"
   ]
  },
  {
   "cell_type": "code",
   "execution_count": 1,
   "id": "daec0a78",
   "metadata": {},
   "outputs": [],
   "source": [
    "import pandas as pd\n",
    "import numpy as np\n",
    "import sqlite3\n",
    "import shutil\n",
    "from datetime import datetime\n",
    "import os\n",
    "import schedule\n",
    "import time\n",
    "import warnings\n",
    "warnings.filterwarnings(\"ignore\")"
   ]
  },
  {
   "cell_type": "markdown",
   "id": "9afa6369",
   "metadata": {},
   "source": [
    "# Loading Dataset"
   ]
  },
  {
   "cell_type": "code",
   "execution_count": 2,
   "id": "5a849ca1",
   "metadata": {},
   "outputs": [],
   "source": [
    "df=pd.read_csv(\"FashionDataset.csv\")"
   ]
  },
  {
   "cell_type": "markdown",
   "id": "91b5bb6b",
   "metadata": {},
   "source": [
    "# Task A – Data Preparation and Database Integration"
   ]
  },
  {
   "cell_type": "code",
   "execution_count": 3,
   "id": "08081608",
   "metadata": {},
   "outputs": [],
   "source": [
    "df['MRP'] = df['MRP'].astype(str)\n",
    "df['SellPrice'] = df['SellPrice'].astype(str)\n",
    "df['MRP'] = df['MRP'].str.replace('Rs\\n', '').astype(float)\n",
    "df['SellPrice'] = df['SellPrice'].str.replace('Rs\\n', '').astype(float)"
   ]
  },
  {
   "cell_type": "code",
   "execution_count": 4,
   "id": "9dd5654e",
   "metadata": {},
   "outputs": [],
   "source": [
    "df['Sizes'] = df['Sizes'].str.replace('Size:', '')\n",
    "df = df.assign(Sizes=df['Sizes'].str.split(',')).explode('Sizes')"
   ]
  },
  {
   "cell_type": "code",
   "execution_count": 5,
   "id": "05391755",
   "metadata": {},
   "outputs": [],
   "source": [
    "df = df.rename(columns={'Deatils': 'Details'})"
   ]
  },
  {
   "cell_type": "code",
   "execution_count": 6,
   "id": "bdb3ecf3",
   "metadata": {},
   "outputs": [],
   "source": [
    "df['Discount'] = df['Discount'].astype(str)\n",
    "df['Discount'] = df['Discount'].str.replace('% off', '').astype(float)"
   ]
  },
  {
   "cell_type": "code",
   "execution_count": 8,
   "id": "8c969bf1",
   "metadata": {},
   "outputs": [],
   "source": [
    "df.rename(columns={'Unnamed: 0': 'ID'}, inplace=True)"
   ]
  },
  {
   "cell_type": "code",
   "execution_count": 9,
   "id": "80b4f6db",
   "metadata": {},
   "outputs": [
    {
     "data": {
      "text/html": [
       "<div>\n",
       "<style scoped>\n",
       "    .dataframe tbody tr th:only-of-type {\n",
       "        vertical-align: middle;\n",
       "    }\n",
       "\n",
       "    .dataframe tbody tr th {\n",
       "        vertical-align: top;\n",
       "    }\n",
       "\n",
       "    .dataframe thead th {\n",
       "        text-align: right;\n",
       "    }\n",
       "</style>\n",
       "<table border=\"1\" class=\"dataframe\">\n",
       "  <thead>\n",
       "    <tr style=\"text-align: right;\">\n",
       "      <th></th>\n",
       "      <th>ID</th>\n",
       "      <th>BrandName</th>\n",
       "      <th>Details</th>\n",
       "      <th>Sizes</th>\n",
       "      <th>MRP</th>\n",
       "      <th>SellPrice</th>\n",
       "      <th>Discount</th>\n",
       "      <th>Category</th>\n",
       "    </tr>\n",
       "  </thead>\n",
       "  <tbody>\n",
       "    <tr>\n",
       "      <th>0</th>\n",
       "      <td>0</td>\n",
       "      <td>life</td>\n",
       "      <td>solid cotton blend collar neck womens a-line d...</td>\n",
       "      <td>Large</td>\n",
       "      <td>1699.0</td>\n",
       "      <td>849.0</td>\n",
       "      <td>50.0</td>\n",
       "      <td>Westernwear-Women</td>\n",
       "    </tr>\n",
       "    <tr>\n",
       "      <th>1</th>\n",
       "      <td>0</td>\n",
       "      <td>life</td>\n",
       "      <td>solid cotton blend collar neck womens a-line d...</td>\n",
       "      <td>Medium</td>\n",
       "      <td>1699.0</td>\n",
       "      <td>849.0</td>\n",
       "      <td>50.0</td>\n",
       "      <td>Westernwear-Women</td>\n",
       "    </tr>\n",
       "    <tr>\n",
       "      <th>2</th>\n",
       "      <td>0</td>\n",
       "      <td>life</td>\n",
       "      <td>solid cotton blend collar neck womens a-line d...</td>\n",
       "      <td>Small</td>\n",
       "      <td>1699.0</td>\n",
       "      <td>849.0</td>\n",
       "      <td>50.0</td>\n",
       "      <td>Westernwear-Women</td>\n",
       "    </tr>\n",
       "    <tr>\n",
       "      <th>3</th>\n",
       "      <td>0</td>\n",
       "      <td>life</td>\n",
       "      <td>solid cotton blend collar neck womens a-line d...</td>\n",
       "      <td>X-Large</td>\n",
       "      <td>1699.0</td>\n",
       "      <td>849.0</td>\n",
       "      <td>50.0</td>\n",
       "      <td>Westernwear-Women</td>\n",
       "    </tr>\n",
       "    <tr>\n",
       "      <th>4</th>\n",
       "      <td>0</td>\n",
       "      <td>life</td>\n",
       "      <td>solid cotton blend collar neck womens a-line d...</td>\n",
       "      <td>X-Small</td>\n",
       "      <td>1699.0</td>\n",
       "      <td>849.0</td>\n",
       "      <td>50.0</td>\n",
       "      <td>Westernwear-Women</td>\n",
       "    </tr>\n",
       "    <tr>\n",
       "      <th>...</th>\n",
       "      <td>...</td>\n",
       "      <td>...</td>\n",
       "      <td>...</td>\n",
       "      <td>...</td>\n",
       "      <td>...</td>\n",
       "      <td>...</td>\n",
       "      <td>...</td>\n",
       "      <td>...</td>\n",
       "    </tr>\n",
       "    <tr>\n",
       "      <th>58418</th>\n",
       "      <td>8</td>\n",
       "      <td>ayesha</td>\n",
       "      <td>womens metallic silver double drop with black ...</td>\n",
       "      <td>Nan</td>\n",
       "      <td>298.0</td>\n",
       "      <td>149.0</td>\n",
       "      <td>50.0</td>\n",
       "      <td>Jewellery-Women</td>\n",
       "    </tr>\n",
       "    <tr>\n",
       "      <th>58419</th>\n",
       "      <td>14</td>\n",
       "      <td>jewelz</td>\n",
       "      <td>beautiful white crystal silver plated earrings</td>\n",
       "      <td>Nan</td>\n",
       "      <td>1739.0</td>\n",
       "      <td>608.0</td>\n",
       "      <td>65.0</td>\n",
       "      <td>Jewellery-Women</td>\n",
       "    </tr>\n",
       "    <tr>\n",
       "      <th>58420</th>\n",
       "      <td>15</td>\n",
       "      <td>ayesha</td>\n",
       "      <td>womens metallic gold statement multilayered ch...</td>\n",
       "      <td>Nan</td>\n",
       "      <td>798.0</td>\n",
       "      <td>399.0</td>\n",
       "      <td>50.0</td>\n",
       "      <td>Jewellery-Women</td>\n",
       "    </tr>\n",
       "    <tr>\n",
       "      <th>58421</th>\n",
       "      <td>16</td>\n",
       "      <td>jewelz</td>\n",
       "      <td>nine pieces combo fashion non-precious metal b...</td>\n",
       "      <td>Nan</td>\n",
       "      <td>1339.0</td>\n",
       "      <td>468.0</td>\n",
       "      <td>65.0</td>\n",
       "      <td>Jewellery-Women</td>\n",
       "    </tr>\n",
       "    <tr>\n",
       "      <th>58422</th>\n",
       "      <td>23</td>\n",
       "      <td>jewelz</td>\n",
       "      <td>ethnic gold plated jhumki earrings</td>\n",
       "      <td>Nan</td>\n",
       "      <td>1839.0</td>\n",
       "      <td>643.0</td>\n",
       "      <td>65.0</td>\n",
       "      <td>Jewellery-Women</td>\n",
       "    </tr>\n",
       "  </tbody>\n",
       "</table>\n",
       "<p>58423 rows × 8 columns</p>\n",
       "</div>"
      ],
      "text/plain": [
       "       ID BrandName                                            Details  \\\n",
       "0       0      life  solid cotton blend collar neck womens a-line d...   \n",
       "1       0      life  solid cotton blend collar neck womens a-line d...   \n",
       "2       0      life  solid cotton blend collar neck womens a-line d...   \n",
       "3       0      life  solid cotton blend collar neck womens a-line d...   \n",
       "4       0      life  solid cotton blend collar neck womens a-line d...   \n",
       "...    ..       ...                                                ...   \n",
       "58418   8    ayesha  womens metallic silver double drop with black ...   \n",
       "58419  14    jewelz     beautiful white crystal silver plated earrings   \n",
       "58420  15    ayesha  womens metallic gold statement multilayered ch...   \n",
       "58421  16    jewelz  nine pieces combo fashion non-precious metal b...   \n",
       "58422  23    jewelz                 ethnic gold plated jhumki earrings   \n",
       "\n",
       "         Sizes     MRP  SellPrice  Discount           Category  \n",
       "0        Large  1699.0      849.0      50.0  Westernwear-Women  \n",
       "1       Medium  1699.0      849.0      50.0  Westernwear-Women  \n",
       "2        Small  1699.0      849.0      50.0  Westernwear-Women  \n",
       "3      X-Large  1699.0      849.0      50.0  Westernwear-Women  \n",
       "4      X-Small  1699.0      849.0      50.0  Westernwear-Women  \n",
       "...        ...     ...        ...       ...                ...  \n",
       "58418      Nan   298.0      149.0      50.0    Jewellery-Women  \n",
       "58419      Nan  1739.0      608.0      65.0    Jewellery-Women  \n",
       "58420      Nan   798.0      399.0      50.0    Jewellery-Women  \n",
       "58421      Nan  1339.0      468.0      65.0    Jewellery-Women  \n",
       "58422      Nan  1839.0      643.0      65.0    Jewellery-Women  \n",
       "\n",
       "[58423 rows x 8 columns]"
      ]
     },
     "execution_count": 9,
     "metadata": {},
     "output_type": "execute_result"
    }
   ],
   "source": [
    "df"
   ]
  },
  {
   "cell_type": "code",
   "execution_count": 10,
   "id": "81fd25c6",
   "metadata": {},
   "outputs": [],
   "source": [
    "cleaned_df = df.dropna()\n",
    "cleaned_df  = cleaned_df .drop(columns=['ID'])"
   ]
  },
  {
   "cell_type": "code",
   "execution_count": 11,
   "id": "806122fb",
   "metadata": {},
   "outputs": [
    {
     "data": {
      "text/html": [
       "<div>\n",
       "<style scoped>\n",
       "    .dataframe tbody tr th:only-of-type {\n",
       "        vertical-align: middle;\n",
       "    }\n",
       "\n",
       "    .dataframe tbody tr th {\n",
       "        vertical-align: top;\n",
       "    }\n",
       "\n",
       "    .dataframe thead th {\n",
       "        text-align: right;\n",
       "    }\n",
       "</style>\n",
       "<table border=\"1\" class=\"dataframe\">\n",
       "  <thead>\n",
       "    <tr style=\"text-align: right;\">\n",
       "      <th></th>\n",
       "      <th>BrandName</th>\n",
       "      <th>Details</th>\n",
       "      <th>Sizes</th>\n",
       "      <th>MRP</th>\n",
       "      <th>SellPrice</th>\n",
       "      <th>Discount</th>\n",
       "      <th>Category</th>\n",
       "    </tr>\n",
       "  </thead>\n",
       "  <tbody>\n",
       "    <tr>\n",
       "      <th>0</th>\n",
       "      <td>life</td>\n",
       "      <td>solid cotton blend collar neck womens a-line d...</td>\n",
       "      <td>Large</td>\n",
       "      <td>1699.0</td>\n",
       "      <td>849.0</td>\n",
       "      <td>50.0</td>\n",
       "      <td>Westernwear-Women</td>\n",
       "    </tr>\n",
       "    <tr>\n",
       "      <th>1</th>\n",
       "      <td>life</td>\n",
       "      <td>solid cotton blend collar neck womens a-line d...</td>\n",
       "      <td>Medium</td>\n",
       "      <td>1699.0</td>\n",
       "      <td>849.0</td>\n",
       "      <td>50.0</td>\n",
       "      <td>Westernwear-Women</td>\n",
       "    </tr>\n",
       "    <tr>\n",
       "      <th>2</th>\n",
       "      <td>life</td>\n",
       "      <td>solid cotton blend collar neck womens a-line d...</td>\n",
       "      <td>Small</td>\n",
       "      <td>1699.0</td>\n",
       "      <td>849.0</td>\n",
       "      <td>50.0</td>\n",
       "      <td>Westernwear-Women</td>\n",
       "    </tr>\n",
       "    <tr>\n",
       "      <th>3</th>\n",
       "      <td>life</td>\n",
       "      <td>solid cotton blend collar neck womens a-line d...</td>\n",
       "      <td>X-Large</td>\n",
       "      <td>1699.0</td>\n",
       "      <td>849.0</td>\n",
       "      <td>50.0</td>\n",
       "      <td>Westernwear-Women</td>\n",
       "    </tr>\n",
       "    <tr>\n",
       "      <th>4</th>\n",
       "      <td>life</td>\n",
       "      <td>solid cotton blend collar neck womens a-line d...</td>\n",
       "      <td>X-Small</td>\n",
       "      <td>1699.0</td>\n",
       "      <td>849.0</td>\n",
       "      <td>50.0</td>\n",
       "      <td>Westernwear-Women</td>\n",
       "    </tr>\n",
       "    <tr>\n",
       "      <th>...</th>\n",
       "      <td>...</td>\n",
       "      <td>...</td>\n",
       "      <td>...</td>\n",
       "      <td>...</td>\n",
       "      <td>...</td>\n",
       "      <td>...</td>\n",
       "      <td>...</td>\n",
       "    </tr>\n",
       "    <tr>\n",
       "      <th>58418</th>\n",
       "      <td>ayesha</td>\n",
       "      <td>womens metallic silver double drop with black ...</td>\n",
       "      <td>Nan</td>\n",
       "      <td>298.0</td>\n",
       "      <td>149.0</td>\n",
       "      <td>50.0</td>\n",
       "      <td>Jewellery-Women</td>\n",
       "    </tr>\n",
       "    <tr>\n",
       "      <th>58419</th>\n",
       "      <td>jewelz</td>\n",
       "      <td>beautiful white crystal silver plated earrings</td>\n",
       "      <td>Nan</td>\n",
       "      <td>1739.0</td>\n",
       "      <td>608.0</td>\n",
       "      <td>65.0</td>\n",
       "      <td>Jewellery-Women</td>\n",
       "    </tr>\n",
       "    <tr>\n",
       "      <th>58420</th>\n",
       "      <td>ayesha</td>\n",
       "      <td>womens metallic gold statement multilayered ch...</td>\n",
       "      <td>Nan</td>\n",
       "      <td>798.0</td>\n",
       "      <td>399.0</td>\n",
       "      <td>50.0</td>\n",
       "      <td>Jewellery-Women</td>\n",
       "    </tr>\n",
       "    <tr>\n",
       "      <th>58421</th>\n",
       "      <td>jewelz</td>\n",
       "      <td>nine pieces combo fashion non-precious metal b...</td>\n",
       "      <td>Nan</td>\n",
       "      <td>1339.0</td>\n",
       "      <td>468.0</td>\n",
       "      <td>65.0</td>\n",
       "      <td>Jewellery-Women</td>\n",
       "    </tr>\n",
       "    <tr>\n",
       "      <th>58422</th>\n",
       "      <td>jewelz</td>\n",
       "      <td>ethnic gold plated jhumki earrings</td>\n",
       "      <td>Nan</td>\n",
       "      <td>1839.0</td>\n",
       "      <td>643.0</td>\n",
       "      <td>65.0</td>\n",
       "      <td>Jewellery-Women</td>\n",
       "    </tr>\n",
       "  </tbody>\n",
       "</table>\n",
       "<p>58287 rows × 7 columns</p>\n",
       "</div>"
      ],
      "text/plain": [
       "      BrandName                                            Details    Sizes  \\\n",
       "0          life  solid cotton blend collar neck womens a-line d...    Large   \n",
       "1          life  solid cotton blend collar neck womens a-line d...   Medium   \n",
       "2          life  solid cotton blend collar neck womens a-line d...    Small   \n",
       "3          life  solid cotton blend collar neck womens a-line d...  X-Large   \n",
       "4          life  solid cotton blend collar neck womens a-line d...  X-Small   \n",
       "...         ...                                                ...      ...   \n",
       "58418    ayesha  womens metallic silver double drop with black ...      Nan   \n",
       "58419    jewelz     beautiful white crystal silver plated earrings      Nan   \n",
       "58420    ayesha  womens metallic gold statement multilayered ch...      Nan   \n",
       "58421    jewelz  nine pieces combo fashion non-precious metal b...      Nan   \n",
       "58422    jewelz                 ethnic gold plated jhumki earrings      Nan   \n",
       "\n",
       "          MRP  SellPrice  Discount           Category  \n",
       "0      1699.0      849.0      50.0  Westernwear-Women  \n",
       "1      1699.0      849.0      50.0  Westernwear-Women  \n",
       "2      1699.0      849.0      50.0  Westernwear-Women  \n",
       "3      1699.0      849.0      50.0  Westernwear-Women  \n",
       "4      1699.0      849.0      50.0  Westernwear-Women  \n",
       "...       ...        ...       ...                ...  \n",
       "58418   298.0      149.0      50.0    Jewellery-Women  \n",
       "58419  1739.0      608.0      65.0    Jewellery-Women  \n",
       "58420   798.0      399.0      50.0    Jewellery-Women  \n",
       "58421  1339.0      468.0      65.0    Jewellery-Women  \n",
       "58422  1839.0      643.0      65.0    Jewellery-Women  \n",
       "\n",
       "[58287 rows x 7 columns]"
      ]
     },
     "execution_count": 11,
     "metadata": {},
     "output_type": "execute_result"
    }
   ],
   "source": [
    "cleaned_df"
   ]
  },
  {
   "cell_type": "code",
   "execution_count": 24,
   "id": "5811204a",
   "metadata": {},
   "outputs": [
    {
     "data": {
      "text/html": [
       "<div>\n",
       "<style scoped>\n",
       "    .dataframe tbody tr th:only-of-type {\n",
       "        vertical-align: middle;\n",
       "    }\n",
       "\n",
       "    .dataframe tbody tr th {\n",
       "        vertical-align: top;\n",
       "    }\n",
       "\n",
       "    .dataframe thead th {\n",
       "        text-align: right;\n",
       "    }\n",
       "</style>\n",
       "<table border=\"1\" class=\"dataframe\">\n",
       "  <thead>\n",
       "    <tr style=\"text-align: right;\">\n",
       "      <th></th>\n",
       "      <th>BrandName</th>\n",
       "      <th>Details</th>\n",
       "      <th>Sizes</th>\n",
       "      <th>MRP</th>\n",
       "      <th>SellPrice</th>\n",
       "      <th>Discount</th>\n",
       "      <th>Category</th>\n",
       "    </tr>\n",
       "  </thead>\n",
       "  <tbody>\n",
       "    <tr>\n",
       "      <th>0</th>\n",
       "      <td>life</td>\n",
       "      <td>solid cotton blend collar neck womens a-line d...</td>\n",
       "      <td>Large</td>\n",
       "      <td>1699.0</td>\n",
       "      <td>849.0</td>\n",
       "      <td>50.0</td>\n",
       "      <td>Westernwear-Women</td>\n",
       "    </tr>\n",
       "    <tr>\n",
       "      <th>1</th>\n",
       "      <td>life</td>\n",
       "      <td>solid cotton blend collar neck womens a-line d...</td>\n",
       "      <td>Medium</td>\n",
       "      <td>1699.0</td>\n",
       "      <td>849.0</td>\n",
       "      <td>50.0</td>\n",
       "      <td>Westernwear-Women</td>\n",
       "    </tr>\n",
       "    <tr>\n",
       "      <th>2</th>\n",
       "      <td>life</td>\n",
       "      <td>solid cotton blend collar neck womens a-line d...</td>\n",
       "      <td>Small</td>\n",
       "      <td>1699.0</td>\n",
       "      <td>849.0</td>\n",
       "      <td>50.0</td>\n",
       "      <td>Westernwear-Women</td>\n",
       "    </tr>\n",
       "    <tr>\n",
       "      <th>3</th>\n",
       "      <td>life</td>\n",
       "      <td>solid cotton blend collar neck womens a-line d...</td>\n",
       "      <td>X-Large</td>\n",
       "      <td>1699.0</td>\n",
       "      <td>849.0</td>\n",
       "      <td>50.0</td>\n",
       "      <td>Westernwear-Women</td>\n",
       "    </tr>\n",
       "    <tr>\n",
       "      <th>4</th>\n",
       "      <td>life</td>\n",
       "      <td>solid cotton blend collar neck womens a-line d...</td>\n",
       "      <td>X-Small</td>\n",
       "      <td>1699.0</td>\n",
       "      <td>849.0</td>\n",
       "      <td>50.0</td>\n",
       "      <td>Westernwear-Women</td>\n",
       "    </tr>\n",
       "  </tbody>\n",
       "</table>\n",
       "</div>"
      ],
      "text/plain": [
       "  BrandName                                            Details    Sizes  \\\n",
       "0      life  solid cotton blend collar neck womens a-line d...    Large   \n",
       "1      life  solid cotton blend collar neck womens a-line d...   Medium   \n",
       "2      life  solid cotton blend collar neck womens a-line d...    Small   \n",
       "3      life  solid cotton blend collar neck womens a-line d...  X-Large   \n",
       "4      life  solid cotton blend collar neck womens a-line d...  X-Small   \n",
       "\n",
       "      MRP  SellPrice  Discount           Category  \n",
       "0  1699.0      849.0      50.0  Westernwear-Women  \n",
       "1  1699.0      849.0      50.0  Westernwear-Women  \n",
       "2  1699.0      849.0      50.0  Westernwear-Women  \n",
       "3  1699.0      849.0      50.0  Westernwear-Women  \n",
       "4  1699.0      849.0      50.0  Westernwear-Women  "
      ]
     },
     "execution_count": 24,
     "metadata": {},
     "output_type": "execute_result"
    }
   ],
   "source": [
    "cleaned_df.head()"
   ]
  },
  {
   "cell_type": "code",
   "execution_count": 12,
   "id": "3f76d287",
   "metadata": {},
   "outputs": [
    {
     "data": {
      "text/html": [
       "<div>\n",
       "<style scoped>\n",
       "    .dataframe tbody tr th:only-of-type {\n",
       "        vertical-align: middle;\n",
       "    }\n",
       "\n",
       "    .dataframe tbody tr th {\n",
       "        vertical-align: top;\n",
       "    }\n",
       "\n",
       "    .dataframe thead th {\n",
       "        text-align: right;\n",
       "    }\n",
       "</style>\n",
       "<table border=\"1\" class=\"dataframe\">\n",
       "  <thead>\n",
       "    <tr style=\"text-align: right;\">\n",
       "      <th></th>\n",
       "      <th>BrandName</th>\n",
       "      <th>Details</th>\n",
       "      <th>Sizes</th>\n",
       "      <th>MRP</th>\n",
       "      <th>SellPrice</th>\n",
       "      <th>Discount</th>\n",
       "      <th>Category</th>\n",
       "    </tr>\n",
       "  </thead>\n",
       "  <tbody>\n",
       "    <tr>\n",
       "      <th>0</th>\n",
       "      <td>life</td>\n",
       "      <td>solid cotton blend collar neck womens a-line d...</td>\n",
       "      <td>Large</td>\n",
       "      <td>1699.0</td>\n",
       "      <td>849.0</td>\n",
       "      <td>50.0</td>\n",
       "      <td>Westernwear-Women</td>\n",
       "    </tr>\n",
       "    <tr>\n",
       "      <th>1</th>\n",
       "      <td>life</td>\n",
       "      <td>solid cotton blend collar neck womens a-line d...</td>\n",
       "      <td>Medium</td>\n",
       "      <td>1699.0</td>\n",
       "      <td>849.0</td>\n",
       "      <td>50.0</td>\n",
       "      <td>Westernwear-Women</td>\n",
       "    </tr>\n",
       "    <tr>\n",
       "      <th>2</th>\n",
       "      <td>life</td>\n",
       "      <td>solid cotton blend collar neck womens a-line d...</td>\n",
       "      <td>Small</td>\n",
       "      <td>1699.0</td>\n",
       "      <td>849.0</td>\n",
       "      <td>50.0</td>\n",
       "      <td>Westernwear-Women</td>\n",
       "    </tr>\n",
       "    <tr>\n",
       "      <th>3</th>\n",
       "      <td>life</td>\n",
       "      <td>solid cotton blend collar neck womens a-line d...</td>\n",
       "      <td>X-Large</td>\n",
       "      <td>1699.0</td>\n",
       "      <td>849.0</td>\n",
       "      <td>50.0</td>\n",
       "      <td>Westernwear-Women</td>\n",
       "    </tr>\n",
       "    <tr>\n",
       "      <th>4</th>\n",
       "      <td>life</td>\n",
       "      <td>solid cotton blend collar neck womens a-line d...</td>\n",
       "      <td>X-Small</td>\n",
       "      <td>1699.0</td>\n",
       "      <td>849.0</td>\n",
       "      <td>50.0</td>\n",
       "      <td>Westernwear-Women</td>\n",
       "    </tr>\n",
       "  </tbody>\n",
       "</table>\n",
       "</div>"
      ],
      "text/plain": [
       "  BrandName                                            Details    Sizes  \\\n",
       "0      life  solid cotton blend collar neck womens a-line d...    Large   \n",
       "1      life  solid cotton blend collar neck womens a-line d...   Medium   \n",
       "2      life  solid cotton blend collar neck womens a-line d...    Small   \n",
       "3      life  solid cotton blend collar neck womens a-line d...  X-Large   \n",
       "4      life  solid cotton blend collar neck womens a-line d...  X-Small   \n",
       "\n",
       "      MRP  SellPrice  Discount           Category  \n",
       "0  1699.0      849.0      50.0  Westernwear-Women  \n",
       "1  1699.0      849.0      50.0  Westernwear-Women  \n",
       "2  1699.0      849.0      50.0  Westernwear-Women  \n",
       "3  1699.0      849.0      50.0  Westernwear-Women  \n",
       "4  1699.0      849.0      50.0  Westernwear-Women  "
      ]
     },
     "execution_count": 12,
     "metadata": {},
     "output_type": "execute_result"
    }
   ],
   "source": [
    "filtered_df = cleaned_df[cleaned_df['Discount'] > 30]\n",
    "filtered_df.head()"
   ]
  },
  {
   "cell_type": "markdown",
   "id": "007721a5",
   "metadata": {},
   "source": [
    "# Establishing a connection with SQL"
   ]
  },
  {
   "cell_type": "code",
   "execution_count": 13,
   "id": "26eef70f",
   "metadata": {},
   "outputs": [],
   "source": [
    "# Establish a connection to an SQLite database\n",
    "conn = sqlite3.connect('fashionretail.db')\n",
    "cursor = conn.cursor()\n",
    "\n",
    "# Drop the table if it already exists\n",
    "cursor.execute('DROP TABLE IF EXISTS fashion_sales')\n",
    "conn.commit()"
   ]
  },
  {
   "cell_type": "code",
   "execution_count": 14,
   "id": "5e867d1c",
   "metadata": {},
   "outputs": [],
   "source": [
    "# Create a table in the database\n",
    "cursor.execute('''\n",
    "CREATE TABLE IF NOT EXISTS fashion_sales (\n",
    "    id INTEGER PRIMARY KEY,\n",
    "    BrandName TEXT,\n",
    "    Details TEXT,\n",
    "    Sizes TEXT,\n",
    "    MRP REAL,\n",
    "    SellPrice REAL,\n",
    "    Discount REAL,\n",
    "    Category TEXT\n",
    ")\n",
    "''')\n",
    "conn.commit()"
   ]
  },
  {
   "cell_type": "markdown",
   "id": "dcbd7d78",
   "metadata": {},
   "source": [
    "# Import the dataset into a table within the database"
   ]
  },
  {
   "cell_type": "code",
   "execution_count": 15,
   "id": "a71b8e46",
   "metadata": {},
   "outputs": [
    {
     "data": {
      "text/plain": [
       "58287"
      ]
     },
     "execution_count": 15,
     "metadata": {},
     "output_type": "execute_result"
    }
   ],
   "source": [
    "# Insert the dataset into the table\n",
    "filtered_df .to_sql('fashion_sales', conn, if_exists='append', index=False)"
   ]
  },
  {
   "cell_type": "markdown",
   "id": "39384a8e",
   "metadata": {},
   "source": [
    "# Retrieve and display records or documents from the table"
   ]
  },
  {
   "cell_type": "code",
   "execution_count": 16,
   "id": "329aba56",
   "metadata": {},
   "outputs": [
    {
     "name": "stdout",
     "output_type": "stream",
     "text": [
      "   id BrandName                                            Details    Sizes  \\\n",
      "0   1      life  solid cotton blend collar neck womens a-line d...    Large   \n",
      "1   2      life  solid cotton blend collar neck womens a-line d...   Medium   \n",
      "2   3      life  solid cotton blend collar neck womens a-line d...    Small   \n",
      "3   4      life  solid cotton blend collar neck womens a-line d...  X-Large   \n",
      "4   5      life  solid cotton blend collar neck womens a-line d...  X-Small   \n",
      "\n",
      "      MRP  SellPrice  Discount           Category  \n",
      "0  1699.0      849.0      50.0  Westernwear-Women  \n",
      "1  1699.0      849.0      50.0  Westernwear-Women  \n",
      "2  1699.0      849.0      50.0  Westernwear-Women  \n",
      "3  1699.0      849.0      50.0  Westernwear-Women  \n",
      "4  1699.0      849.0      50.0  Westernwear-Women  \n"
     ]
    }
   ],
   "source": [
    "# Retrieve and display records from the table\n",
    "query = \"SELECT * FROM fashion_sales LIMIT 5\"\n",
    "results = pd.read_sql_query(query, conn)\n",
    "print(results)"
   ]
  },
  {
   "cell_type": "markdown",
   "id": "3124dc40",
   "metadata": {},
   "source": [
    "# Sort the records or documents based on a given condition."
   ]
  },
  {
   "cell_type": "code",
   "execution_count": 17,
   "id": "b09e3354",
   "metadata": {},
   "outputs": [
    {
     "name": "stdout",
     "output_type": "stream",
     "text": [
      "      id       BrandName                                            Details  \\\n",
      "0  57592           coach  womens 33.25 mm preston mother of pearl dial s...   \n",
      "1  57394  emporio armani  womens gianni t-bar mother of pearl dial analo...   \n",
      "2  57574           coach  womens grey stainless steel analogue watch  - ...   \n",
      "3  57343           coach  womens purple dial metallic analogue watch - c...   \n",
      "4  57260           coach  womens park blue dial stainless steel analogue...   \n",
      "\n",
      "  Sizes      MRP  SellPrice  Discount       Category  \n",
      "0   Nan  28495.0    17097.0      40.0  Watches-Women  \n",
      "1   Nan  24495.0    14697.0      40.0  Watches-Women  \n",
      "2   Nan  22995.0    13797.0      40.0  Watches-Women  \n",
      "3   Nan  22500.0    13500.0      40.0  Watches-Women  \n",
      "4   Nan  22000.0    13200.0      40.0  Watches-Women  \n"
     ]
    }
   ],
   "source": [
    "# Example: Sort records by SellPrice in descending order\n",
    "sorted_query = \"SELECT * FROM fashion_sales ORDER BY SellPrice DESC\"\n",
    "sorted_results = pd.read_sql_query(sorted_query, conn)\n",
    "print(sorted_results.head())"
   ]
  },
  {
   "cell_type": "markdown",
   "id": "458eb168",
   "metadata": {},
   "source": [
    "# Count the number of records or documents present in the table"
   ]
  },
  {
   "cell_type": "code",
   "execution_count": 18,
   "id": "26b05cfe",
   "metadata": {},
   "outputs": [
    {
     "name": "stdout",
     "output_type": "stream",
     "text": [
      "   COUNT(*)\n",
      "0     58287\n"
     ]
    }
   ],
   "source": [
    "# Count the number of records in the table\n",
    "count_query = \"SELECT COUNT(*) FROM fashion_sales\"\n",
    "count_result = pd.read_sql_query(count_query, conn)\n",
    "print(count_result)"
   ]
  },
  {
   "cell_type": "markdown",
   "id": "9c4a4280",
   "metadata": {},
   "source": [
    "# Perform grouping operations on records"
   ]
  },
  {
   "cell_type": "code",
   "execution_count": 19,
   "id": "8d4c5e1c",
   "metadata": {},
   "outputs": [
    {
     "name": "stdout",
     "output_type": "stream",
     "text": [
      "                   Category  Avg_SellPrice\n",
      "0            Footwear-Women    1388.238132\n",
      "1           Fragrance-Women    1286.625000\n",
      "2          Indianwear-Women    1101.899411\n",
      "3           Jewellery-Women     799.131783\n",
      "4  Lingerie&Nightwear-Women     597.411088\n",
      "5             Watches-Women    4699.743243\n",
      "6         Westernwear-Women     919.642775\n"
     ]
    }
   ],
   "source": [
    "# Example: Group by Category and calculate average SellPrice\n",
    "group_query = \"SELECT Category, AVG(SellPrice) as Avg_SellPrice FROM fashion_sales GROUP BY Category\"\n",
    "grouped_results = pd.read_sql_query(group_query, conn)\n",
    "print(grouped_results)"
   ]
  },
  {
   "cell_type": "markdown",
   "id": "2cd0b831",
   "metadata": {},
   "source": [
    "# Execute update operations on records"
   ]
  },
  {
   "cell_type": "code",
   "execution_count": 20,
   "id": "b98b91e0",
   "metadata": {},
   "outputs": [
    {
     "name": "stdout",
     "output_type": "stream",
     "text": [
      "         id BrandName                                            Details  \\\n",
      "0         1      life  solid cotton blend collar neck womens a-line d...   \n",
      "1         2      life  solid cotton blend collar neck womens a-line d...   \n",
      "2         3      life  solid cotton blend collar neck womens a-line d...   \n",
      "3         4      life  solid cotton blend collar neck womens a-line d...   \n",
      "4         5      life  solid cotton blend collar neck womens a-line d...   \n",
      "...     ...       ...                                                ...   \n",
      "2708  51518      life             women cotton regular sleepwear - multi   \n",
      "2709  51519      life             women cotton regular sleepwear - multi   \n",
      "2710  51520      life             women cotton regular sleepwear - multi   \n",
      "2711  51521      life             women cotton regular sleepwear - multi   \n",
      "2712  51522      life             women cotton regular sleepwear - multi   \n",
      "\n",
      "        Sizes     MRP  SellPrice  Discount                  Category  \n",
      "0       Large  1699.0      849.0      55.0         Westernwear-Women  \n",
      "1      Medium  1699.0      849.0      55.0         Westernwear-Women  \n",
      "2       Small  1699.0      849.0      55.0         Westernwear-Women  \n",
      "3     X-Large  1699.0      849.0      55.0         Westernwear-Women  \n",
      "4     X-Small  1699.0      849.0      55.0         Westernwear-Women  \n",
      "...       ...     ...        ...       ...                       ...  \n",
      "2708    Large  1199.0      599.0      55.0  Lingerie&Nightwear-Women  \n",
      "2709   Medium  1199.0      599.0      55.0  Lingerie&Nightwear-Women  \n",
      "2710    Small  1199.0      599.0      55.0  Lingerie&Nightwear-Women  \n",
      "2711  X-Large  1199.0      599.0      55.0  Lingerie&Nightwear-Women  \n",
      "2712  X-Small  1199.0      599.0      55.0  Lingerie&Nightwear-Women  \n",
      "\n",
      "[2713 rows x 8 columns]\n"
     ]
    }
   ],
   "source": [
    "# Example: Update Discount for a specific BrandName\n",
    "update_query = \"UPDATE fashion_sales SET Discount = 55 WHERE BrandName = 'life'\"\n",
    "cursor.execute(update_query)\n",
    "conn.commit()\n",
    "\n",
    "# Verify the update\n",
    "verify_query = \"SELECT * FROM fashion_sales WHERE BrandName = 'life'\"\n",
    "updated_results = pd.read_sql_query(verify_query, conn)\n",
    "print(updated_results)"
   ]
  },
  {
   "cell_type": "markdown",
   "id": "3cf36287",
   "metadata": {},
   "source": [
    "# Task B – Data Export, Migration and Backup"
   ]
  },
  {
   "cell_type": "markdown",
   "id": "7ec0799d",
   "metadata": {},
   "source": [
    "Export data"
   ]
  },
  {
   "cell_type": "code",
   "execution_count": 21,
   "id": "df253d3c",
   "metadata": {},
   "outputs": [
    {
     "name": "stdout",
     "output_type": "stream",
     "text": [
      "Data exported to C:/Users/hp/Downloads/PythonWork/sales.csv\n"
     ]
    }
   ],
   "source": [
    "# Export data from the sales table to a CSV file\n",
    "export_file_path = 'C:/Users/hp/Downloads/PythonWork/sales.csv'\n",
    "filtered_df.to_csv(export_file_path, index=False)\n",
    "print(f'Data exported to {export_file_path}')"
   ]
  },
  {
   "cell_type": "markdown",
   "id": "2fbcebca",
   "metadata": {},
   "source": [
    "Backup"
   ]
  },
  {
   "cell_type": "code",
   "execution_count": 22,
   "id": "83546ca5",
   "metadata": {},
   "outputs": [
    {
     "name": "stdout",
     "output_type": "stream",
     "text": [
      "Backup created at C:/Users/hp/Downloads/PythonWork/backup/sales_20240803_121711.csv\n"
     ]
    }
   ],
   "source": [
    "# Source and destination paths\n",
    "source_file_path = 'C:/Users/hp/Downloads/PythonWork/sales.csv'\n",
    "backup_dir = 'C:/Users/hp/Downloads/PythonWork/backup/'\n",
    "\n",
    "# Create the backup directory if it doesn't exist\n",
    "os.makedirs(backup_dir, exist_ok=True)\n",
    "\n",
    "# Create a timestamped backup file name\n",
    "timestamp = datetime.now().strftime('%Y%m%d_%H%M%S')\n",
    "backup_file_path = f'{backup_dir}sales_{timestamp}.csv'\n",
    "\n",
    "# Copy the file\n",
    "shutil.copy(source_file_path, backup_file_path)\n",
    "print(f'Backup created at {backup_file_path}')"
   ]
  },
  {
   "cell_type": "markdown",
   "id": "9eade84b",
   "metadata": {},
   "source": [
    "Error Handling and Automated Backup"
   ]
  },
  {
   "cell_type": "markdown",
   "id": "3ebaa489",
   "metadata": {},
   "source": [
    "The Below Code will run indefinitely as the scheduling process is executing. It will check for backup in every 1 minute and that is why the keyboard interrupt is showing due to stop the execution"
   ]
  },
  {
   "cell_type": "code",
   "execution_count": 23,
   "id": "d50f0102",
   "metadata": {},
   "outputs": [
    {
     "name": "stdout",
     "output_type": "stream",
     "text": [
      "Backup completed successfully to C:/Users/hp/Downloads/PythonWork/backup/\n"
     ]
    },
    {
     "ename": "KeyboardInterrupt",
     "evalue": "",
     "output_type": "error",
     "traceback": [
      "\u001b[1;31m---------------------------------------------------------------------------\u001b[0m",
      "\u001b[1;31mKeyboardInterrupt\u001b[0m                         Traceback (most recent call last)",
      "Input \u001b[1;32mIn [23]\u001b[0m, in \u001b[0;36m<cell line: 25>\u001b[1;34m()\u001b[0m\n\u001b[0;32m     24\u001b[0m \u001b[38;5;28;01mwhile\u001b[39;00m \u001b[38;5;28;01mTrue\u001b[39;00m:\n\u001b[0;32m     25\u001b[0m     schedule\u001b[38;5;241m.\u001b[39mrun_pending()\n\u001b[1;32m---> 26\u001b[0m     \u001b[43mtime\u001b[49m\u001b[38;5;241;43m.\u001b[39;49m\u001b[43msleep\u001b[49m\u001b[43m(\u001b[49m\u001b[38;5;241;43m10\u001b[39;49m\u001b[43m)\u001b[49m\n",
      "\u001b[1;31mKeyboardInterrupt\u001b[0m: "
     ]
    }
   ],
   "source": [
    "def backup_job():\n",
    "    try:\n",
    "        # Define the source directory and the backup directory\n",
    "        source_dir = 'C:/Users/hp/Downloads/PythonWork/'\n",
    "        backup_dir = 'C:/Users/hp/Downloads/PythonWork/backup/'\n",
    "        \n",
    "        # Create the backup directory if it doesn't exist\n",
    "        os.makedirs(backup_dir, exist_ok=True)\n",
    "        \n",
    "        # Copy all files from the source directory to the backup directory\n",
    "        for filename in os.listdir(source_dir):\n",
    "            full_file_name = os.path.join(source_dir, filename)\n",
    "            if os.path.isfile(full_file_name):\n",
    "                shutil.copy(full_file_name, backup_dir)\n",
    "        \n",
    "        print(f\"Backup completed successfully to {backup_dir}\")\n",
    "    except Exception as e:\n",
    "        print(f\"Backup failed: {e}\")\n",
    "\n",
    "# Schedule the backup job to run daily at a specified time\n",
    "schedule.every(1).minutes.do(backup_job)\n",
    "\n",
    "# Run the scheduled tasks\n",
    "while True:\n",
    "    schedule.run_pending()\n",
    "    time.sleep(10)\n"
   ]
  },
  {
   "cell_type": "code",
   "execution_count": null,
   "id": "6551a3dc",
   "metadata": {},
   "outputs": [],
   "source": []
  }
 ],
 "metadata": {
  "kernelspec": {
   "display_name": "Python 3 (ipykernel)",
   "language": "python",
   "name": "python3"
  },
  "language_info": {
   "codemirror_mode": {
    "name": "ipython",
    "version": 3
   },
   "file_extension": ".py",
   "mimetype": "text/x-python",
   "name": "python",
   "nbconvert_exporter": "python",
   "pygments_lexer": "ipython3",
   "version": "3.9.12"
  }
 },
 "nbformat": 4,
 "nbformat_minor": 5
}
